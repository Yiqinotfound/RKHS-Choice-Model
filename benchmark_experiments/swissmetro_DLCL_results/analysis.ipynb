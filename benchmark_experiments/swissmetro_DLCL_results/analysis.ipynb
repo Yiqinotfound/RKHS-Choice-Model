{
 "cells": [
  {
   "cell_type": "code",
   "execution_count": 41,
   "metadata": {},
   "outputs": [],
   "source": [
    "import pandas as pd\n",
    "import sys \n",
    "sys.path.append(\"../../\")\n",
    "from utils.model_utils import load_config"
   ]
  },
  {
   "cell_type": "code",
   "execution_count": 42,
   "metadata": {},
   "outputs": [],
   "source": [
    "data = pd.read_csv(\"swissmetro_DLCL_results.csv\")\n",
    "config_path = \"../../configs/benchmark_config.yaml\"\n",
    "model_args = load_config(config_path)[\"swissmetro_DLCL\"]\n"
   ]
  },
  {
   "cell_type": "code",
   "execution_count": 43,
   "metadata": {},
   "outputs": [],
   "source": [
    "# data['max_epochs'] = 50\n",
    "# # 把 max_epochs这列移到nll_train_loss这列前面\n",
    "# data.insert(data.columns.get_loc('nll_train'), 'max_epochs', data.pop('max_epochs'))\n"
   ]
  },
  {
   "cell_type": "code",
   "execution_count": 44,
   "metadata": {},
   "outputs": [
    {
     "data": {
      "application/vnd.microsoft.datawrangler.viewer.v0+json": {
       "columns": [
        {
         "name": "('weight_decay', 'learning_rate', 'l1_reg', 'max_epochs', 'test_size', 'n_splits', 'SEED', 'batch_size', 'smoothing')",
         "rawType": "object",
         "type": "unknown"
        },
        {
         "name": "fold",
         "rawType": "float64",
         "type": "float"
        },
        {
         "name": "nll_train",
         "rawType": "float64",
         "type": "float"
        },
        {
         "name": "nll_val",
         "rawType": "float64",
         "type": "float"
        },
        {
         "name": "nll_test",
         "rawType": "float64",
         "type": "float"
        },
        {
         "name": "acc_train",
         "rawType": "float64",
         "type": "float"
        },
        {
         "name": "acc_val",
         "rawType": "float64",
         "type": "float"
        },
        {
         "name": "acc_test",
         "rawType": "float64",
         "type": "float"
        },
        {
         "name": "train_time",
         "rawType": "float64",
         "type": "float"
        }
       ],
       "conversionMethod": "pd.DataFrame",
       "ref": "5b89095d-de17-48a8-997e-938032f56d76",
       "rows": [
        [
         "(0, 0.001, 0, 1000, 0.1, 9, 42, 64, 0.01)",
         "5.0",
         "0.6805591781934103",
         "0.6856037709448073",
         "0.6793057918548584",
         "0.702070616004042",
         "0.7008414200395471",
         "0.67962271973466",
         "420.0872009595235"
        ],
        [
         "(0, 0.001, 0, 1000, 0.1, 9, 42, 128, 0.01)",
         "5.0",
         "0.685809055964152",
         "0.6901323662863837",
         "0.6844224797354804",
         "0.6996735301263363",
         "0.6978352286188108",
         "0.6772388059701493",
         "255.8981920613183"
        ],
        [
         "(0, 0.001, 0, 1000, 0.1, 9, 42, 512, 0.01)",
         "5.0",
         "0.699762933784061",
         "0.702859189775255",
         "0.6960427893532647",
         "0.6885690262245623",
         "0.6885068704098555",
         "0.6701907131011609",
         "150.21896102693347"
        ]
       ],
       "shape": {
        "columns": 8,
        "rows": 3
       }
      },
      "text/html": [
       "<div>\n",
       "<style scoped>\n",
       "    .dataframe tbody tr th:only-of-type {\n",
       "        vertical-align: middle;\n",
       "    }\n",
       "\n",
       "    .dataframe tbody tr th {\n",
       "        vertical-align: top;\n",
       "    }\n",
       "\n",
       "    .dataframe thead th {\n",
       "        text-align: right;\n",
       "    }\n",
       "</style>\n",
       "<table border=\"1\" class=\"dataframe\">\n",
       "  <thead>\n",
       "    <tr style=\"text-align: right;\">\n",
       "      <th></th>\n",
       "      <th></th>\n",
       "      <th></th>\n",
       "      <th></th>\n",
       "      <th></th>\n",
       "      <th></th>\n",
       "      <th></th>\n",
       "      <th></th>\n",
       "      <th></th>\n",
       "      <th>fold</th>\n",
       "      <th>nll_train</th>\n",
       "      <th>nll_val</th>\n",
       "      <th>nll_test</th>\n",
       "      <th>acc_train</th>\n",
       "      <th>acc_val</th>\n",
       "      <th>acc_test</th>\n",
       "      <th>train_time</th>\n",
       "    </tr>\n",
       "    <tr>\n",
       "      <th>weight_decay</th>\n",
       "      <th>learning_rate</th>\n",
       "      <th>l1_reg</th>\n",
       "      <th>max_epochs</th>\n",
       "      <th>test_size</th>\n",
       "      <th>n_splits</th>\n",
       "      <th>SEED</th>\n",
       "      <th>batch_size</th>\n",
       "      <th>smoothing</th>\n",
       "      <th></th>\n",
       "      <th></th>\n",
       "      <th></th>\n",
       "      <th></th>\n",
       "      <th></th>\n",
       "      <th></th>\n",
       "      <th></th>\n",
       "      <th></th>\n",
       "    </tr>\n",
       "  </thead>\n",
       "  <tbody>\n",
       "    <tr>\n",
       "      <th rowspan=\"3\" valign=\"top\">0</th>\n",
       "      <th rowspan=\"3\" valign=\"top\">0.001</th>\n",
       "      <th rowspan=\"3\" valign=\"top\">0</th>\n",
       "      <th rowspan=\"3\" valign=\"top\">1000</th>\n",
       "      <th rowspan=\"3\" valign=\"top\">0.1</th>\n",
       "      <th rowspan=\"3\" valign=\"top\">9</th>\n",
       "      <th rowspan=\"3\" valign=\"top\">42</th>\n",
       "      <th>64</th>\n",
       "      <th>0.01</th>\n",
       "      <td>5.0</td>\n",
       "      <td>0.680559</td>\n",
       "      <td>0.685604</td>\n",
       "      <td>0.679306</td>\n",
       "      <td>0.702071</td>\n",
       "      <td>0.700841</td>\n",
       "      <td>0.679623</td>\n",
       "      <td>420.087201</td>\n",
       "    </tr>\n",
       "    <tr>\n",
       "      <th>128</th>\n",
       "      <th>0.01</th>\n",
       "      <td>5.0</td>\n",
       "      <td>0.685809</td>\n",
       "      <td>0.690132</td>\n",
       "      <td>0.684422</td>\n",
       "      <td>0.699674</td>\n",
       "      <td>0.697835</td>\n",
       "      <td>0.677239</td>\n",
       "      <td>255.898192</td>\n",
       "    </tr>\n",
       "    <tr>\n",
       "      <th>512</th>\n",
       "      <th>0.01</th>\n",
       "      <td>5.0</td>\n",
       "      <td>0.699763</td>\n",
       "      <td>0.702859</td>\n",
       "      <td>0.696043</td>\n",
       "      <td>0.688569</td>\n",
       "      <td>0.688507</td>\n",
       "      <td>0.670191</td>\n",
       "      <td>150.218961</td>\n",
       "    </tr>\n",
       "  </tbody>\n",
       "</table>\n",
       "</div>"
      ],
      "text/plain": [
       "                                                                                           fold  \\\n",
       "weight_decay learning_rate l1_reg max_epochs test_size n_splits SEED batch_size smoothing         \n",
       "0            0.001         0      1000       0.1       9        42   64         0.01        5.0   \n",
       "                                                                     128        0.01        5.0   \n",
       "                                                                     512        0.01        5.0   \n",
       "\n",
       "                                                                                           nll_train  \\\n",
       "weight_decay learning_rate l1_reg max_epochs test_size n_splits SEED batch_size smoothing              \n",
       "0            0.001         0      1000       0.1       9        42   64         0.01        0.680559   \n",
       "                                                                     128        0.01        0.685809   \n",
       "                                                                     512        0.01        0.699763   \n",
       "\n",
       "                                                                                            nll_val  \\\n",
       "weight_decay learning_rate l1_reg max_epochs test_size n_splits SEED batch_size smoothing             \n",
       "0            0.001         0      1000       0.1       9        42   64         0.01       0.685604   \n",
       "                                                                     128        0.01       0.690132   \n",
       "                                                                     512        0.01       0.702859   \n",
       "\n",
       "                                                                                           nll_test  \\\n",
       "weight_decay learning_rate l1_reg max_epochs test_size n_splits SEED batch_size smoothing             \n",
       "0            0.001         0      1000       0.1       9        42   64         0.01       0.679306   \n",
       "                                                                     128        0.01       0.684422   \n",
       "                                                                     512        0.01       0.696043   \n",
       "\n",
       "                                                                                           acc_train  \\\n",
       "weight_decay learning_rate l1_reg max_epochs test_size n_splits SEED batch_size smoothing              \n",
       "0            0.001         0      1000       0.1       9        42   64         0.01        0.702071   \n",
       "                                                                     128        0.01        0.699674   \n",
       "                                                                     512        0.01        0.688569   \n",
       "\n",
       "                                                                                            acc_val  \\\n",
       "weight_decay learning_rate l1_reg max_epochs test_size n_splits SEED batch_size smoothing             \n",
       "0            0.001         0      1000       0.1       9        42   64         0.01       0.700841   \n",
       "                                                                     128        0.01       0.697835   \n",
       "                                                                     512        0.01       0.688507   \n",
       "\n",
       "                                                                                           acc_test  \\\n",
       "weight_decay learning_rate l1_reg max_epochs test_size n_splits SEED batch_size smoothing             \n",
       "0            0.001         0      1000       0.1       9        42   64         0.01       0.679623   \n",
       "                                                                     128        0.01       0.677239   \n",
       "                                                                     512        0.01       0.670191   \n",
       "\n",
       "                                                                                           train_time  \n",
       "weight_decay learning_rate l1_reg max_epochs test_size n_splits SEED batch_size smoothing              \n",
       "0            0.001         0      1000       0.1       9        42   64         0.01       420.087201  \n",
       "                                                                     128        0.01       255.898192  \n",
       "                                                                     512        0.01       150.218961  "
      ]
     },
     "execution_count": 44,
     "metadata": {},
     "output_type": "execute_result"
    }
   ],
   "source": [
    "data.groupby(list(model_args.keys())).mean()"
   ]
  }
 ],
 "metadata": {
  "kernelspec": {
   "display_name": "yiqipytorch",
   "language": "python",
   "name": "python3"
  },
  "language_info": {
   "codemirror_mode": {
    "name": "ipython",
    "version": 3
   },
   "file_extension": ".py",
   "mimetype": "text/x-python",
   "name": "python",
   "nbconvert_exporter": "python",
   "pygments_lexer": "ipython3",
   "version": "3.9.20"
  }
 },
 "nbformat": 4,
 "nbformat_minor": 2
}
