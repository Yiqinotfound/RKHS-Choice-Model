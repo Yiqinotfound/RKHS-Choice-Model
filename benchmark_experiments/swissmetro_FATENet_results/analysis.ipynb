{
 "cells": [
  {
   "cell_type": "code",
   "execution_count": 20,
   "metadata": {},
   "outputs": [],
   "source": [
    "import pandas as pd\n",
    "import sys \n",
    "sys.path.append(\"../../\")\n",
    "from utils.model_utils import load_config"
   ]
  },
  {
   "cell_type": "code",
   "execution_count": 21,
   "metadata": {},
   "outputs": [],
   "source": [
    "data = pd.read_csv(\"swissmetro_FATENet_results.csv\")\n",
    "config_path = \"../../configs/benchmark_config.yaml\"\n",
    "model_args = load_config(config_path)[\"swissmetro_FATENet\"]\n"
   ]
  },
  {
   "cell_type": "code",
   "execution_count": 22,
   "metadata": {},
   "outputs": [],
   "source": [
    "# data['max_epochs'] = 50\n",
    "# # 把 max_epochs这列移到nll_train_loss这列前面\n",
    "# data.insert(data.columns.get_loc('nll_train'), 'max_epochs', data.pop('max_epochs'))\n"
   ]
  },
  {
   "cell_type": "code",
   "execution_count": 23,
   "metadata": {},
   "outputs": [
    {
     "data": {
      "application/vnd.microsoft.datawrangler.viewer.v0+json": {
       "columns": [
        {
         "name": "('weight_decay', 'learning_rate', 'max_epochs', 'test_size', 'n_splits', 'SEED', 'batch_size', 'smoothing', 'scheduler_gamma', 'step_size')",
         "rawType": "object",
         "type": "unknown"
        },
        {
         "name": "fold",
         "rawType": "float64",
         "type": "float"
        },
        {
         "name": "nll_train",
         "rawType": "float64",
         "type": "float"
        },
        {
         "name": "nll_val",
         "rawType": "float64",
         "type": "float"
        },
        {
         "name": "nll_test",
         "rawType": "float64",
         "type": "float"
        },
        {
         "name": "acc_train",
         "rawType": "float64",
         "type": "float"
        },
        {
         "name": "acc_val",
         "rawType": "float64",
         "type": "float"
        },
        {
         "name": "acc_test",
         "rawType": "float64",
         "type": "float"
        },
        {
         "name": "train_time",
         "rawType": "float64",
         "type": "float"
        }
       ],
       "conversionMethod": "pd.DataFrame",
       "ref": "ffe0e65a-d095-41b6-8fba-00ac1e715304",
       "rows": [
        [
         "(0.0, 0.001, 200, 0.1, 9, 42, 512, 0.01, 0.99, 20)",
         "5.0",
         "0.41301510400242275",
         "0.5499863160981072",
         "0.48327786723772687",
         "0.8328885380555918",
         "0.7759940764586654",
         "0.7943615257048093",
         "40.5261484781901"
        ]
       ],
       "shape": {
        "columns": 8,
        "rows": 1
       }
      },
      "text/html": [
       "<div>\n",
       "<style scoped>\n",
       "    .dataframe tbody tr th:only-of-type {\n",
       "        vertical-align: middle;\n",
       "    }\n",
       "\n",
       "    .dataframe tbody tr th {\n",
       "        vertical-align: top;\n",
       "    }\n",
       "\n",
       "    .dataframe thead th {\n",
       "        text-align: right;\n",
       "    }\n",
       "</style>\n",
       "<table border=\"1\" class=\"dataframe\">\n",
       "  <thead>\n",
       "    <tr style=\"text-align: right;\">\n",
       "      <th></th>\n",
       "      <th></th>\n",
       "      <th></th>\n",
       "      <th></th>\n",
       "      <th></th>\n",
       "      <th></th>\n",
       "      <th></th>\n",
       "      <th></th>\n",
       "      <th></th>\n",
       "      <th></th>\n",
       "      <th>fold</th>\n",
       "      <th>nll_train</th>\n",
       "      <th>nll_val</th>\n",
       "      <th>nll_test</th>\n",
       "      <th>acc_train</th>\n",
       "      <th>acc_val</th>\n",
       "      <th>acc_test</th>\n",
       "      <th>train_time</th>\n",
       "    </tr>\n",
       "    <tr>\n",
       "      <th>weight_decay</th>\n",
       "      <th>learning_rate</th>\n",
       "      <th>max_epochs</th>\n",
       "      <th>test_size</th>\n",
       "      <th>n_splits</th>\n",
       "      <th>SEED</th>\n",
       "      <th>batch_size</th>\n",
       "      <th>smoothing</th>\n",
       "      <th>scheduler_gamma</th>\n",
       "      <th>step_size</th>\n",
       "      <th></th>\n",
       "      <th></th>\n",
       "      <th></th>\n",
       "      <th></th>\n",
       "      <th></th>\n",
       "      <th></th>\n",
       "      <th></th>\n",
       "      <th></th>\n",
       "    </tr>\n",
       "  </thead>\n",
       "  <tbody>\n",
       "    <tr>\n",
       "      <th>0.0</th>\n",
       "      <th>0.001</th>\n",
       "      <th>200</th>\n",
       "      <th>0.1</th>\n",
       "      <th>9</th>\n",
       "      <th>42</th>\n",
       "      <th>512</th>\n",
       "      <th>0.01</th>\n",
       "      <th>0.99</th>\n",
       "      <th>20</th>\n",
       "      <td>5.0</td>\n",
       "      <td>0.413015</td>\n",
       "      <td>0.549986</td>\n",
       "      <td>0.483278</td>\n",
       "      <td>0.832889</td>\n",
       "      <td>0.775994</td>\n",
       "      <td>0.794362</td>\n",
       "      <td>40.526148</td>\n",
       "    </tr>\n",
       "  </tbody>\n",
       "</table>\n",
       "</div>"
      ],
      "text/plain": [
       "                                                                                                              fold  \\\n",
       "weight_decay learning_rate max_epochs test_size n_splits SEED batch_size smoothing scheduler_gamma step_size         \n",
       "0.0          0.001         200        0.1       9        42   512        0.01      0.99            20          5.0   \n",
       "\n",
       "                                                                                                              nll_train  \\\n",
       "weight_decay learning_rate max_epochs test_size n_splits SEED batch_size smoothing scheduler_gamma step_size              \n",
       "0.0          0.001         200        0.1       9        42   512        0.01      0.99            20          0.413015   \n",
       "\n",
       "                                                                                                               nll_val  \\\n",
       "weight_decay learning_rate max_epochs test_size n_splits SEED batch_size smoothing scheduler_gamma step_size             \n",
       "0.0          0.001         200        0.1       9        42   512        0.01      0.99            20         0.549986   \n",
       "\n",
       "                                                                                                              nll_test  \\\n",
       "weight_decay learning_rate max_epochs test_size n_splits SEED batch_size smoothing scheduler_gamma step_size             \n",
       "0.0          0.001         200        0.1       9        42   512        0.01      0.99            20         0.483278   \n",
       "\n",
       "                                                                                                              acc_train  \\\n",
       "weight_decay learning_rate max_epochs test_size n_splits SEED batch_size smoothing scheduler_gamma step_size              \n",
       "0.0          0.001         200        0.1       9        42   512        0.01      0.99            20          0.832889   \n",
       "\n",
       "                                                                                                               acc_val  \\\n",
       "weight_decay learning_rate max_epochs test_size n_splits SEED batch_size smoothing scheduler_gamma step_size             \n",
       "0.0          0.001         200        0.1       9        42   512        0.01      0.99            20         0.775994   \n",
       "\n",
       "                                                                                                              acc_test  \\\n",
       "weight_decay learning_rate max_epochs test_size n_splits SEED batch_size smoothing scheduler_gamma step_size             \n",
       "0.0          0.001         200        0.1       9        42   512        0.01      0.99            20         0.794362   \n",
       "\n",
       "                                                                                                              train_time  \n",
       "weight_decay learning_rate max_epochs test_size n_splits SEED batch_size smoothing scheduler_gamma step_size              \n",
       "0.0          0.001         200        0.1       9        42   512        0.01      0.99            20          40.526148  "
      ]
     },
     "execution_count": 23,
     "metadata": {},
     "output_type": "execute_result"
    }
   ],
   "source": [
    "data.groupby(list(model_args.keys())).mean()"
   ]
  }
 ],
 "metadata": {
  "kernelspec": {
   "display_name": "yiqipytorch",
   "language": "python",
   "name": "python3"
  },
  "language_info": {
   "codemirror_mode": {
    "name": "ipython",
    "version": 3
   },
   "file_extension": ".py",
   "mimetype": "text/x-python",
   "name": "python",
   "nbconvert_exporter": "python",
   "pygments_lexer": "ipython3",
   "version": "3.9.20"
  }
 },
 "nbformat": 4,
 "nbformat_minor": 2
}
