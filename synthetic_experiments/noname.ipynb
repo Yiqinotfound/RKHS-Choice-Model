{
 "cells": [
  {
   "cell_type": "code",
   "execution_count": null,
   "metadata": {},
   "outputs": [],
   "source": [
    "import torch\n",
    "import numpy as np"
   ]
  },
  {
   "cell_type": "code",
   "execution_count": 5,
   "metadata": {},
   "outputs": [],
   "source": [
    "x = torch.load('/data/yiqi/RKHSChoiceModel/Halo/results/second_order_interaction.pt',weights_only=True,map_location='cpu')\n",
    "reshaped = x.view(25,5).numpy().round(4)"
   ]
  },
  {
   "cell_type": "code",
   "execution_count": 6,
   "metadata": {},
   "outputs": [
    {
     "data": {
      "text/plain": [
       "array([[ 0.    ,  0.    ,  0.    ,  0.    ,  0.    ],\n",
       "       [ 0.    ,  0.    ,  0.0077,  0.0111, -0.0246],\n",
       "       [ 0.    , -0.0201,  0.    ,  0.0742,  0.1388],\n",
       "       [ 0.    ,  0.0293,  0.0522,  0.    , -0.0021],\n",
       "       [ 0.    ,  0.0376, -0.0374,  0.0756,  0.    ],\n",
       "       [ 0.    ,  0.    ,  0.0077,  0.0111, -0.0246],\n",
       "       [ 0.    ,  0.    ,  0.    ,  0.    ,  0.    ],\n",
       "       [ 0.1333,  0.    ,  0.    ,  0.0291, -0.0569],\n",
       "       [ 0.0753,  0.    ,  0.0627,  0.    ,  0.0231],\n",
       "       [-0.0898,  0.    , -0.0965,  0.0054,  0.    ],\n",
       "       [ 0.    , -0.0201,  0.    ,  0.0742,  0.1388],\n",
       "       [ 0.1333,  0.    ,  0.    ,  0.0291, -0.0569],\n",
       "       [ 0.    ,  0.    ,  0.    ,  0.    ,  0.    ],\n",
       "       [-0.0087, -0.1396,  0.    ,  0.    , -0.1369],\n",
       "       [ 0.0205, -0.0348,  0.    ,  0.093 ,  0.    ],\n",
       "       [ 0.    ,  0.0293,  0.0522,  0.    , -0.0021],\n",
       "       [ 0.0753,  0.    ,  0.0627,  0.    ,  0.0231],\n",
       "       [-0.0087, -0.1396,  0.    ,  0.    , -0.1369],\n",
       "       [ 0.    ,  0.    ,  0.    ,  0.    ,  0.    ],\n",
       "       [ 0.0456,  0.0487,  0.0752,  0.    ,  0.    ],\n",
       "       [ 0.    ,  0.0376, -0.0374,  0.0756,  0.    ],\n",
       "       [-0.0898,  0.    , -0.0965,  0.0054,  0.    ],\n",
       "       [ 0.0205, -0.0348,  0.    ,  0.093 ,  0.    ],\n",
       "       [ 0.0456,  0.0487,  0.0752,  0.    ,  0.    ],\n",
       "       [ 0.    ,  0.    ,  0.    ,  0.    ,  0.    ]], dtype=float32)"
      ]
     },
     "execution_count": 6,
     "metadata": {},
     "output_type": "execute_result"
    }
   ],
   "source": [
    "reshaped"
   ]
  },
  {
   "cell_type": "code",
   "execution_count": 12,
   "metadata": {},
   "outputs": [
    {
     "name": "stdout",
     "output_type": "stream",
     "text": [
      "\\begin{table}[htbp]\n",
      "\\centering\n",
      "\\caption{Your Tensor Representation}\n",
      "\\begin{tabular}{@{}cc*{5}{c}@{}}\n",
      "\\toprule\n",
      "i & j & \\multicolumn{5}{c}{k} \\\\\n",
      "\\cmidrule(r){1-2} \\cmidrule(l){3-7}\n",
      "  &   & 0 & 1 & 2 & 3 & 4 \\\\\n",
      "\\midrule\n",
      "0 & 1 & 0.000 & 0.000 & 0.008 & 0.011 & -0.025 \\\\\n",
      "0 & 2 & 0.000 & -0.020 & 0.000 & 0.074 & 0.139 \\\\\n",
      "0 & 3 & 0.000 & 0.029 & 0.052 & 0.000 & -0.002 \\\\\n",
      "0 & 4 & 0.000 & 0.038 & -0.037 & 0.076 & 0.000 \\\\\n",
      "1 & 2 & 0.133 & 0.000 & 0.000 & 0.029 & -0.057 \\\\\n",
      "1 & 3 & 0.075 & 0.000 & 0.063 & 0.000 & 0.023 \\\\\n",
      "1 & 4 & -0.090 & 0.000 & -0.097 & 0.005 & 0.000 \\\\\n",
      "2 & 3 & -0.009 & -0.140 & 0.000 & 0.000 & -0.137 \\\\\n",
      "2 & 4 & 0.021 & -0.035 & 0.000 & 0.093 & 0.000 \\\\\n",
      "3 & 4 & 0.046 & 0.049 & 0.075 & 0.000 & 0.000 \\\\\n",
      "\\bottomrule\n",
      "\\end{tabular}\n",
      "\\end{table}\n"
     ]
    }
   ],
   "source": [
    "latex_code = r\"\"\"\\begin{table}[htbp]\n",
    "\\centering\n",
    "\\caption{Your Tensor Representation}\n",
    "\\begin{tabular}{@{}cc*{5}{c}@{}}\n",
    "\\toprule\n",
    "i & j & \\multicolumn{5}{c}{k} \\\\\n",
    "\\cmidrule(r){1-2} \\cmidrule(l){3-7}\n",
    "  &   & 0 & 1 & 2 & 3 & 4 \\\\\n",
    "\\midrule\n",
    "\"\"\"\n",
    "\n",
    "for i in range(5):\n",
    "    for j in range(5):\n",
    "        if i < j:\n",
    "            row_idx = i * 5 + j\n",
    "            values = \" & \".join([f\"{x:.3f}\" for x in reshaped[row_idx]])\n",
    "            # 使用原始字符串避免转义问题\n",
    "            latex_code += rf\"{i} & {j} & {values} \\\\\" + \"\\n\"\n",
    "\n",
    "latex_code += r\"\"\"\\bottomrule\n",
    "\\end{tabular}\n",
    "\\end{table}\"\"\"\n",
    "\n",
    "print(latex_code)"
   ]
  }
 ],
 "metadata": {
  "kernelspec": {
   "display_name": "yiqipytorch",
   "language": "python",
   "name": "python3"
  },
  "language_info": {
   "codemirror_mode": {
    "name": "ipython",
    "version": 3
   },
   "file_extension": ".py",
   "mimetype": "text/x-python",
   "name": "python",
   "nbconvert_exporter": "python",
   "pygments_lexer": "ipython3",
   "version": "3.9.20"
  }
 },
 "nbformat": 4,
 "nbformat_minor": 2
}
