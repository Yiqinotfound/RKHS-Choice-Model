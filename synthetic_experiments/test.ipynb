{
 "cells": [
  {
   "cell_type": "code",
   "execution_count": 3,
   "metadata": {},
   "outputs": [
    {
     "name": "stdout",
     "output_type": "stream",
     "text": [
      "实际均值: -0.0017\n",
      "实际方差: 0.9821\n",
      "True\n",
      "-0.3313086360295018\n",
      "1140\n"
     ]
    }
   ],
   "source": [
    "import itertools\n",
    "import numpy as np\n",
    "\n",
    "# 配置参数\n",
    "d = 20\n",
    "np.random.seed(0)  # 固定随机种子保证可重复性\n",
    "\n",
    "# 生成所有唯一三元组组合 (i<j<k)\n",
    "combinations = list(itertools.combinations(range(d), 3))\n",
    "num_comb = len(combinations)  # C(20,3)=1140\n",
    "\n",
    "# 创建组合到索引的快速映射\n",
    "combo_to_idx = {combo: idx for idx, combo in enumerate(combinations)}\n",
    "\n",
    "# 初始化参数矩阵 (1140组合 × 20物品)\n",
    "params = np.random.normal(loc=0, scale=1, size=(num_comb, d))\n",
    "\n",
    "# 验证统计特性\n",
    "print(f\"实际均值: {np.mean(params):.4f}\")  # 应接近0\n",
    "print(f\"实际方差: {np.var(params):.4f}\")   # 应接近1\n",
    "\n",
    "def get_interaction(i, j, k, l):\n",
    "    \"\"\"获取三阶交互项 v[i,j,k,l]\"\"\"\n",
    "    # 标准化输入顺序为 i<j<k\n",
    "    sorted_combo = tuple(sorted((i, j, k)))\n",
    "    \n",
    "    # 查找组合索引\n",
    "    idx = combo_to_idx.get(sorted_combo, None)\n",
    "    \n",
    "    if idx is None:\n",
    "        return 0.0  # 非有效三阶组合返回0\n",
    "    \n",
    "    return params[idx, l]\n",
    "\n",
    "# 示例用法 -------------------\n",
    "# 测试对称性\n",
    "print(get_interaction(1,2,3, 0) == get_interaction(3,1,2, 0))  # 应输出True\n",
    "\n",
    "# 测试无效组合\n",
    "print(get_interaction(1,2,3, 5))  # 输出0.0\n",
    "print(num_comb)"
   ]
  }
 ],
 "metadata": {
  "kernelspec": {
   "display_name": "yiqipytorch",
   "language": "python",
   "name": "python3"
  },
  "language_info": {
   "codemirror_mode": {
    "name": "ipython",
    "version": 3
   },
   "file_extension": ".py",
   "mimetype": "text/x-python",
   "name": "python",
   "nbconvert_exporter": "python",
   "pygments_lexer": "ipython3",
   "version": "3.9.20"
  }
 },
 "nbformat": 4,
 "nbformat_minor": 2
}
